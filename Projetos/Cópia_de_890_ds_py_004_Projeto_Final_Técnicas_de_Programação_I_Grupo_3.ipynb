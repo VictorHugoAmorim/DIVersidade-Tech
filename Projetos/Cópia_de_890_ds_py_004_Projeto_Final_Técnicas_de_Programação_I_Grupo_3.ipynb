{
  "cells": [
    {
      "cell_type": "markdown",
      "metadata": {
        "id": "IOT8n05yeFEC"
      },
      "source": [
        "### Análise de Dados com Pandas\n",
        "* Projeto Final - Trilha DS-PY-004 TÉCNICAS DE PROGRAMAÇÃO I (PY) - Turma 890\n",
        "* Grupo 3\n",
        "\n",
        "Integrantes: \n",
        "- Carlos Henrique\n",
        "- Daniel Arnóbio\n",
        "- Laila Souza\n",
        "- Taiara Sampaio\n",
        "- Victor Hugo\n",
        "\n",
        "\n",
        "\n",
        "#### Dataset: Home Credit Default Risk (Kaggle)\n",
        "*Dados estáticos das requisições de financiamento. Cada linha representa um empréstimo no dataset.*\n",
        "\n",
        "\n",
        "Disponível para download em: [https://www.kaggle.com/competitions/home-credit-default-risk/data?select=application_train.csv](https://www.kaggle.com/competitions/home-credit-default-risk/data?select=application_train.csv)\n"
      ]
    },
    {
      "cell_type": "markdown",
      "metadata": {
        "id": "U4bC3iFNeFEV"
      },
      "source": [
        "------\n",
        "Considerando os temas estudados neste módulo e o dataset **home_credit_default_risk_application_100000** (*que é um recorte das 100.000 primeiras linhas do dataset supracitado*), responda apenas 12 das perguntas a seguir.\n",
        "\n",
        "Observações e/ou recomendações de tratamento:\n",
        "- Necessário fatiar de acordo com as colunas listadas na lista **selected_columns** informada abaixo\n",
        "- Juntar/Tratar os vários tipos de Industry no campo ORGANIZATION_TYPE;\n",
        "- Juntar/Tratar os vários tipos de Trade no campo ORGANIZATION_TYPE;\n",
        "- Juntar/Tratar os vários tipos de Transport no campo ORGANIZATION_TYPE;\n",
        "- Juntar/Tratar os vários tipos de Business Entity no campo ORGANIZATION_TYPE;\n",
        "- Algumas colunas apresentam outliers que PRECISAM ser desconsiderados ou zerados, como o valor 365243 em DAYS_EMPLOYED.\n",
        "- As colunas que contam dias levam em consideração DATADACOLUNA - HOJE, gerando, muitas vezes, números negativos que não devem prejudicar a análise.\n",
        "- Preferencialmente, sempre ordene os resultados de forma ascendente ou descendente.\n",
        "\n",
        "Glossário de apoio:\n",
        "- block of flats = apartamentos\n",
        "- AMT = amount / valor\n",
        "- QRT = Quarter / Trimestre\n",
        "-  CNT = count / qty / quantidade\n",
        "- 0 = Não / False / No\n",
        "- 1 = Sim / True / Yes\n",
        "\n",
        "\n",
        "\n",
        "\n"
      ]
    },
    {
      "cell_type": "markdown",
      "metadata": {
        "id": "z0PHpqfheFEX"
      },
      "source": [
        "---\n",
        "##### Perguntas - **Escolham 12 dentre todas abaixo**:\n",
        "\n",
        "- 01) Qual é a idade, em anos, do titular mais jovem?\n",
        "- 02) Qual a média do valor de anuidade dos residentes em apartamentos maiores de 50 anos?\n",
        "- 03) Existe uma correlação forte entre ter imóvel próprio e ter carro próprio? Por que?\n",
        "- 04) Quais os 3 principais tipos de ocupação de quem mora com parentes?\n",
        "- 05) Qual é a diferença entre a média de valor de crédito e a média de valor de anuidade quando filtramos pelos trabalhadores do tipo de organização Military?\n",
        "- 06) Considerando os tipos de ocupação, podemos dizer que os \"Managers\" possuem um valor de anuidade mais alto? Se não, qual é? \n",
        "- 07) Qual é o horário e dia da semana que mais trabalhadores dos tipos de organização Bank & Government optam por requisitar o financiamento?\n",
        "- 08) Qual a média de requisições de empréstimo entre trabalhadores com tipo de ocupação \"Sales staff\", que não moram com parentes, declararam não estarem em situação de emergência e possuem telefone de trabalho?\n",
        "- 09) Como você explica a correlação entre o número de filhos e idade (em anos)?\n",
        "- 10) Podemos concluir que, quanto mais tempo empregado, maior o crédito? Por que?\n",
        "- 11) Qual o desvio padrão da quantidade de filhos de quem tem 8 familiares?\n",
        "- 12) Quantos registros existem em que o número de filhos é maior que o número de familiares?\n",
        "- 13) Qual a média de dias por estado civil em que o telefone foi alterado de quem tem até 3 filhos, até 40 anos de idade e tem seu próprio imóvel?\n",
        "- 14) Qual a quantidade de requisições por escolaridade x possuir o seu próprio carro x possuir sua própria casa?\n",
        "- 15) Quais os 3 tipos de organização em que seus empregados mais requisitaram análise de crédito pelo Bureau no último trimestre (com exceção do tipo Other)?\n",
        "- 16) Qual gênero requisitou mais análise de crédito na última semana?\n",
        "- 17) Existe alguma inconsistência no campo que indica o tempo de posse do carro? Ou seja, existem registros em que o requisitante informou não ter carro e informou o tempo ou vice-versa?\n",
        "- 18) Qual a média de idade (em anos) por tipo de ocupação e escolaridade?\n",
        "- 19) Qual a média de valor de anuidade contratada considerando o número de filhos e escolaridade dos requisitantes que solicitaram financiamento em dia útil dentro do horário comercial padrão (8h às 18h)?\n",
        "- 20) Quais a média de crédito, média de filhos e média de idade (em anos) de quem declarou estado de emergência?\n",
        "- 21) Quais os tipos de ocupação e tipo de organização dos requisitantes com idade maior que 60 anos?\n",
        "- 22) Ao analisar correlações, quantidades e agrupamentos entre colunas de marcadores como possuir carro, possuir casa, tipo de moradia, estado civil, escolaridade ou afins, o que chama sua atenção?\n",
        "- 23) Quais as 10 colunas que você julga serem mais importantes ao avaliar o risco de inadimplência? Por que?\n",
        "- 24) Considerando a quantidade de campos nulos, quais colunas podem ter seu valor substituído por 0 ou N (Não, No, False) sem prejuízo para a análise feita aqui?"
      ]
    },
    {
      "cell_type": "markdown",
      "metadata": {
        "id": "5R8GIQUEeFEa"
      },
      "source": [
        "___\n",
        "___\n",
        "___"
      ]
    },
    {
      "cell_type": "code",
      "execution_count": null,
      "metadata": {
        "id": "i7PNbObVeFEc"
      },
      "outputs": [],
      "source": [
        "#listando as colunas que serão utilizadas para correlação\n",
        "\n",
        "selected_columns = ['SK_ID_CURR',\n",
        " 'TARGET',\n",
        " 'NAME_CONTRACT_TYPE',\n",
        " 'CODE_GENDER',\n",
        " 'FLAG_OWN_CAR',\n",
        " 'FLAG_OWN_REALTY',\n",
        " 'CNT_CHILDREN',\n",
        " 'AMT_INCOME_TOTAL',\n",
        " 'AMT_CREDIT',\n",
        " 'AMT_ANNUITY',\n",
        " 'AMT_GOODS_PRICE',\n",
        " #'NAME_TYPE_SUITE',\n",
        " #'NAME_INCOME_TYPE',\n",
        " 'NAME_EDUCATION_TYPE',\n",
        " 'NAME_FAMILY_STATUS',\n",
        " 'NAME_HOUSING_TYPE',\n",
        " #'REGION_POPULATION_RELATIVE',\n",
        " 'DAYS_BIRTH',\n",
        " 'DAYS_EMPLOYED',\n",
        " #'DAYS_REGISTRATION',\n",
        " #'DAYS_ID_PUBLISH',\n",
        " 'OWN_CAR_AGE',\n",
        " #'FLAG_MOBIL',\n",
        " #'FLAG_EMP_PHONE',\n",
        " 'FLAG_WORK_PHONE',\n",
        " 'FLAG_CONT_MOBILE',\n",
        " #'FLAG_PHONE',\n",
        " 'FLAG_EMAIL',\n",
        " 'OCCUPATION_TYPE',\n",
        " 'CNT_FAM_MEMBERS',\n",
        " 'REGION_RATING_CLIENT',\n",
        " #'REGION_RATING_CLIENT_W_CITY',\n",
        " 'WEEKDAY_APPR_PROCESS_START',\n",
        " 'HOUR_APPR_PROCESS_START',\n",
        " #'REG_REGION_NOT_LIVE_REGION',\n",
        " #'REG_REGION_NOT_WORK_REGION',\n",
        " #'LIVE_REGION_NOT_WORK_REGION',\n",
        " #'REG_CITY_NOT_LIVE_CITY',\n",
        " #'REG_CITY_NOT_WORK_CITY',\n",
        " #'LIVE_CITY_NOT_WORK_CITY',\n",
        " 'ORGANIZATION_TYPE',\n",
        "#  'EXT_SOURCE_1',\n",
        "#  'EXT_SOURCE_2',\n",
        "#  'EXT_SOURCE_3',\n",
        "#  'APARTMENTS_AVG',\n",
        "#  'BASEMENTAREA_AVG',\n",
        "#  'YEARS_BEGINEXPLUATATION_AVG',\n",
        "#  'YEARS_BUILD_AVG',\n",
        "#  'COMMONAREA_AVG',\n",
        "#  'ELEVATORS_AVG',\n",
        "#  'ENTRANCES_AVG',\n",
        "#  'FLOORSMAX_AVG',\n",
        "#  'FLOORSMIN_AVG',\n",
        "#  'LANDAREA_AVG',\n",
        "#  'LIVINGAPARTMENTS_AVG',\n",
        "#  'LIVINGAREA_AVG',\n",
        "#  'NONLIVINGAPARTMENTS_AVG',\n",
        "#  'NONLIVINGAREA_AVG',\n",
        "#  'APARTMENTS_MODE',\n",
        "#  'BASEMENTAREA_MODE',\n",
        "#  'YEARS_BEGINEXPLUATATION_MODE',\n",
        "#  'YEARS_BUILD_MODE',\n",
        "#  'COMMONAREA_MODE',\n",
        "#  'ELEVATORS_MODE',\n",
        "#  'ENTRANCES_MODE',\n",
        "#  'FLOORSMAX_MODE',\n",
        "#  'FLOORSMIN_MODE',\n",
        "#  'LANDAREA_MODE',\n",
        "#  'LIVINGAPARTMENTS_MODE',\n",
        "#  'LIVINGAREA_MODE',\n",
        "#  'NONLIVINGAPARTMENTS_MODE',\n",
        "#  'NONLIVINGAREA_MODE',\n",
        "#  'APARTMENTS_MEDI',\n",
        "#  'BASEMENTAREA_MEDI',\n",
        "#  'YEARS_BEGINEXPLUATATION_MEDI',\n",
        "#  'YEARS_BUILD_MEDI',\n",
        "#  'COMMONAREA_MEDI',\n",
        "#  'ELEVATORS_MEDI',\n",
        "#  'ENTRANCES_MEDI',\n",
        "#  'FLOORSMAX_MEDI',\n",
        "#  'FLOORSMIN_MEDI',\n",
        "#  'LANDAREA_MEDI',\n",
        "#  'LIVINGAPARTMENTS_MEDI',\n",
        "#  'LIVINGAREA_MEDI',\n",
        "#  'NONLIVINGAPARTMENTS_MEDI',\n",
        "#  'NONLIVINGAREA_MEDI',\n",
        "#  'FONDKAPREMONT_MODE',\n",
        " 'HOUSETYPE_MODE',\n",
        " #'TOTALAREA_MODE',\n",
        " 'WALLSMATERIAL_MODE',\n",
        " 'EMERGENCYSTATE_MODE',\n",
        "#  'OBS_30_CNT_SOCIAL_CIRCLE',\n",
        "#  'DEF_30_CNT_SOCIAL_CIRCLE',\n",
        "#  'OBS_60_CNT_SOCIAL_CIRCLE',\n",
        "#  'DEF_60_CNT_SOCIAL_CIRCLE',\n",
        " 'DAYS_LAST_PHONE_CHANGE',\n",
        "#  'FLAG_DOCUMENT_2',\n",
        "#  'FLAG_DOCUMENT_3',\n",
        "#  'FLAG_DOCUMENT_4',\n",
        "#  'FLAG_DOCUMENT_5',\n",
        "#  'FLAG_DOCUMENT_6',\n",
        "#  'FLAG_DOCUMENT_7',\n",
        "#  'FLAG_DOCUMENT_8',\n",
        "#  'FLAG_DOCUMENT_9',\n",
        "#  'FLAG_DOCUMENT_10',\n",
        "#  'FLAG_DOCUMENT_11',\n",
        "#  'FLAG_DOCUMENT_12',\n",
        "#  'FLAG_DOCUMENT_13',\n",
        "#  'FLAG_DOCUMENT_14',\n",
        "#  'FLAG_DOCUMENT_15',\n",
        "#  'FLAG_DOCUMENT_16',\n",
        "#  'FLAG_DOCUMENT_17',\n",
        "#  'FLAG_DOCUMENT_18',\n",
        "#  'FLAG_DOCUMENT_19',\n",
        "#  'FLAG_DOCUMENT_20',\n",
        "#  'FLAG_DOCUMENT_21',\n",
        " 'AMT_REQ_CREDIT_BUREAU_HOUR',\n",
        " 'AMT_REQ_CREDIT_BUREAU_DAY',\n",
        " 'AMT_REQ_CREDIT_BUREAU_WEEK',\n",
        " 'AMT_REQ_CREDIT_BUREAU_MON',\n",
        " 'AMT_REQ_CREDIT_BUREAU_QRT',\n",
        " 'AMT_REQ_CREDIT_BUREAU_YEAR']\n"
      ]
    },
    {
      "cell_type": "code",
      "execution_count": null,
      "metadata": {
        "id": "EiI6l1qohSy1"
      },
      "outputs": [],
      "source": [
        "#Importando as bibliotecas\n",
        "\n",
        "import numpy as np\n",
        "import pandas as pd\n",
        "import seaborn as sb\n"
      ]
    },
    {
      "cell_type": "code",
      "execution_count": null,
      "metadata": {
        "id": "hdnEi43xhYkX"
      },
      "outputs": [],
      "source": [
        "#Importando os dados e filtrando as colunas\n",
        "\n",
        "df = pd.read_csv(\"/content/home_credit_default_risk_application_100000.csv\")\n",
        "df = df[selected_columns]\n",
        "df.info()"
      ]
    },
    {
      "cell_type": "code",
      "execution_count": null,
      "metadata": {
        "id": "PCVlvll65Iew",
        "outputId": "63e6c381-a52d-4de1-a6d4-fee886b59cf2",
        "colab": {
          "base_uri": "https://localhost:8080/",
          "height": 520
        }
      },
      "outputs": [
        {
          "output_type": "execute_result",
          "data": {
            "text/plain": [
              "                                0  proporçao %\n",
              "OWN_CAR_AGE                 66019       66.019\n",
              "WALLSMATERIAL_MODE          50765       50.765\n",
              "HOUSETYPE_MODE              50105       50.105\n",
              "EMERGENCYSTATE_MODE         47333       47.333\n",
              "OCCUPATION_TYPE             31224       31.224\n",
              "AMT_REQ_CREDIT_BUREAU_YEAR  13437       13.437\n",
              "AMT_REQ_CREDIT_BUREAU_QRT   13437       13.437\n",
              "AMT_REQ_CREDIT_BUREAU_MON   13437       13.437\n",
              "AMT_REQ_CREDIT_BUREAU_WEEK  13437       13.437\n",
              "AMT_REQ_CREDIT_BUREAU_DAY   13437       13.437\n",
              "AMT_REQ_CREDIT_BUREAU_HOUR  13437       13.437\n",
              "AMT_GOODS_PRICE                81        0.081\n",
              "AMT_ANNUITY                     7        0.007\n",
              "DAYS_LAST_PHONE_CHANGE          1        0.001\n",
              "CNT_FAM_MEMBERS                 1        0.001"
            ],
            "text/html": [
              "\n",
              "  <div id=\"df-eec96ef5-33ad-45e4-958f-fb83e6a33ff6\">\n",
              "    <div class=\"colab-df-container\">\n",
              "      <div>\n",
              "<style scoped>\n",
              "    .dataframe tbody tr th:only-of-type {\n",
              "        vertical-align: middle;\n",
              "    }\n",
              "\n",
              "    .dataframe tbody tr th {\n",
              "        vertical-align: top;\n",
              "    }\n",
              "\n",
              "    .dataframe thead th {\n",
              "        text-align: right;\n",
              "    }\n",
              "</style>\n",
              "<table border=\"1\" class=\"dataframe\">\n",
              "  <thead>\n",
              "    <tr style=\"text-align: right;\">\n",
              "      <th></th>\n",
              "      <th>0</th>\n",
              "      <th>proporçao %</th>\n",
              "    </tr>\n",
              "  </thead>\n",
              "  <tbody>\n",
              "    <tr>\n",
              "      <th>OWN_CAR_AGE</th>\n",
              "      <td>66019</td>\n",
              "      <td>66.019</td>\n",
              "    </tr>\n",
              "    <tr>\n",
              "      <th>WALLSMATERIAL_MODE</th>\n",
              "      <td>50765</td>\n",
              "      <td>50.765</td>\n",
              "    </tr>\n",
              "    <tr>\n",
              "      <th>HOUSETYPE_MODE</th>\n",
              "      <td>50105</td>\n",
              "      <td>50.105</td>\n",
              "    </tr>\n",
              "    <tr>\n",
              "      <th>EMERGENCYSTATE_MODE</th>\n",
              "      <td>47333</td>\n",
              "      <td>47.333</td>\n",
              "    </tr>\n",
              "    <tr>\n",
              "      <th>OCCUPATION_TYPE</th>\n",
              "      <td>31224</td>\n",
              "      <td>31.224</td>\n",
              "    </tr>\n",
              "    <tr>\n",
              "      <th>AMT_REQ_CREDIT_BUREAU_YEAR</th>\n",
              "      <td>13437</td>\n",
              "      <td>13.437</td>\n",
              "    </tr>\n",
              "    <tr>\n",
              "      <th>AMT_REQ_CREDIT_BUREAU_QRT</th>\n",
              "      <td>13437</td>\n",
              "      <td>13.437</td>\n",
              "    </tr>\n",
              "    <tr>\n",
              "      <th>AMT_REQ_CREDIT_BUREAU_MON</th>\n",
              "      <td>13437</td>\n",
              "      <td>13.437</td>\n",
              "    </tr>\n",
              "    <tr>\n",
              "      <th>AMT_REQ_CREDIT_BUREAU_WEEK</th>\n",
              "      <td>13437</td>\n",
              "      <td>13.437</td>\n",
              "    </tr>\n",
              "    <tr>\n",
              "      <th>AMT_REQ_CREDIT_BUREAU_DAY</th>\n",
              "      <td>13437</td>\n",
              "      <td>13.437</td>\n",
              "    </tr>\n",
              "    <tr>\n",
              "      <th>AMT_REQ_CREDIT_BUREAU_HOUR</th>\n",
              "      <td>13437</td>\n",
              "      <td>13.437</td>\n",
              "    </tr>\n",
              "    <tr>\n",
              "      <th>AMT_GOODS_PRICE</th>\n",
              "      <td>81</td>\n",
              "      <td>0.081</td>\n",
              "    </tr>\n",
              "    <tr>\n",
              "      <th>AMT_ANNUITY</th>\n",
              "      <td>7</td>\n",
              "      <td>0.007</td>\n",
              "    </tr>\n",
              "    <tr>\n",
              "      <th>DAYS_LAST_PHONE_CHANGE</th>\n",
              "      <td>1</td>\n",
              "      <td>0.001</td>\n",
              "    </tr>\n",
              "    <tr>\n",
              "      <th>CNT_FAM_MEMBERS</th>\n",
              "      <td>1</td>\n",
              "      <td>0.001</td>\n",
              "    </tr>\n",
              "  </tbody>\n",
              "</table>\n",
              "</div>\n",
              "      <button class=\"colab-df-convert\" onclick=\"convertToInteractive('df-eec96ef5-33ad-45e4-958f-fb83e6a33ff6')\"\n",
              "              title=\"Convert this dataframe to an interactive table.\"\n",
              "              style=\"display:none;\">\n",
              "        \n",
              "  <svg xmlns=\"http://www.w3.org/2000/svg\" height=\"24px\"viewBox=\"0 0 24 24\"\n",
              "       width=\"24px\">\n",
              "    <path d=\"M0 0h24v24H0V0z\" fill=\"none\"/>\n",
              "    <path d=\"M18.56 5.44l.94 2.06.94-2.06 2.06-.94-2.06-.94-.94-2.06-.94 2.06-2.06.94zm-11 1L8.5 8.5l.94-2.06 2.06-.94-2.06-.94L8.5 2.5l-.94 2.06-2.06.94zm10 10l.94 2.06.94-2.06 2.06-.94-2.06-.94-.94-2.06-.94 2.06-2.06.94z\"/><path d=\"M17.41 7.96l-1.37-1.37c-.4-.4-.92-.59-1.43-.59-.52 0-1.04.2-1.43.59L10.3 9.45l-7.72 7.72c-.78.78-.78 2.05 0 2.83L4 21.41c.39.39.9.59 1.41.59.51 0 1.02-.2 1.41-.59l7.78-7.78 2.81-2.81c.8-.78.8-2.07 0-2.86zM5.41 20L4 18.59l7.72-7.72 1.47 1.35L5.41 20z\"/>\n",
              "  </svg>\n",
              "      </button>\n",
              "      \n",
              "  <style>\n",
              "    .colab-df-container {\n",
              "      display:flex;\n",
              "      flex-wrap:wrap;\n",
              "      gap: 12px;\n",
              "    }\n",
              "\n",
              "    .colab-df-convert {\n",
              "      background-color: #E8F0FE;\n",
              "      border: none;\n",
              "      border-radius: 50%;\n",
              "      cursor: pointer;\n",
              "      display: none;\n",
              "      fill: #1967D2;\n",
              "      height: 32px;\n",
              "      padding: 0 0 0 0;\n",
              "      width: 32px;\n",
              "    }\n",
              "\n",
              "    .colab-df-convert:hover {\n",
              "      background-color: #E2EBFA;\n",
              "      box-shadow: 0px 1px 2px rgba(60, 64, 67, 0.3), 0px 1px 3px 1px rgba(60, 64, 67, 0.15);\n",
              "      fill: #174EA6;\n",
              "    }\n",
              "\n",
              "    [theme=dark] .colab-df-convert {\n",
              "      background-color: #3B4455;\n",
              "      fill: #D2E3FC;\n",
              "    }\n",
              "\n",
              "    [theme=dark] .colab-df-convert:hover {\n",
              "      background-color: #434B5C;\n",
              "      box-shadow: 0px 1px 3px 1px rgba(0, 0, 0, 0.15);\n",
              "      filter: drop-shadow(0px 1px 2px rgba(0, 0, 0, 0.3));\n",
              "      fill: #FFFFFF;\n",
              "    }\n",
              "  </style>\n",
              "\n",
              "      <script>\n",
              "        const buttonEl =\n",
              "          document.querySelector('#df-eec96ef5-33ad-45e4-958f-fb83e6a33ff6 button.colab-df-convert');\n",
              "        buttonEl.style.display =\n",
              "          google.colab.kernel.accessAllowed ? 'block' : 'none';\n",
              "\n",
              "        async function convertToInteractive(key) {\n",
              "          const element = document.querySelector('#df-eec96ef5-33ad-45e4-958f-fb83e6a33ff6');\n",
              "          const dataTable =\n",
              "            await google.colab.kernel.invokeFunction('convertToInteractive',\n",
              "                                                     [key], {});\n",
              "          if (!dataTable) return;\n",
              "\n",
              "          const docLinkHtml = 'Like what you see? Visit the ' +\n",
              "            '<a target=\"_blank\" href=https://colab.research.google.com/notebooks/data_table.ipynb>data table notebook</a>'\n",
              "            + ' to learn more about interactive tables.';\n",
              "          element.innerHTML = '';\n",
              "          dataTable['output_type'] = 'display_data';\n",
              "          await google.colab.output.renderOutput(dataTable, element);\n",
              "          const docLink = document.createElement('div');\n",
              "          docLink.innerHTML = docLinkHtml;\n",
              "          element.appendChild(docLink);\n",
              "        }\n",
              "      </script>\n",
              "    </div>\n",
              "  </div>\n",
              "  "
            ]
          },
          "metadata": {},
          "execution_count": 6
        }
      ],
      "source": [
        "#Colunas com valores nulos\n",
        "\n",
        "colunas_nulos = df.isnull().sum().sort_values(ascending=False)\n",
        "colunas_nulos = colunas_nulos[colunas_nulos>0]\n",
        "colunas_nulos = pd.DataFrame(colunas_nulos)\n",
        "colunas_nulos['proporçao %'] = (colunas_nulos/len(df))*100\n",
        "colunas_nulos"
      ]
    },
    {
      "cell_type": "code",
      "execution_count": null,
      "metadata": {
        "id": "mK1ZoZQH5Iey"
      },
      "outputs": [],
      "source": [
        "# Fazendo o tratamento dos types\n",
        "\n",
        "def tratar_ORGANIZATION_TYPE(x):\n",
        "    for i in range(14):\n",
        "        x = str(x).replace(' Type '+str(i),'').replace(': type '+(str(i)) if (i < 10) else str(i-10),'')\n",
        "    return x\n",
        "\n",
        "df['ORGANIZATION_TYPE'] = df['ORGANIZATION_TYPE'].apply(lambda x: tratar_ORGANIZATION_TYPE(x))"
      ]
    },
    {
      "cell_type": "markdown",
      "source": [
        "01) Qual é a idade, em anos, do titular mais jovem?\n"
      ],
      "metadata": {
        "id": "zNwXL_MM_8Io"
      }
    },
    {
      "cell_type": "code",
      "execution_count": null,
      "metadata": {
        "id": "RON_Xpf65Ie1",
        "outputId": "d894d6d6-1393-441e-cf09-69557f80060a"
      },
      "outputs": [
        {
          "data": {
            "text/plain": [
              "<AxesSubplot:>"
            ]
          },
          "execution_count": 460,
          "metadata": {},
          "output_type": "execute_result"
        },
        {
          "data": {
            "image/png": "[encoded data removed]",
            "text/plain": [
              "<Figure size 432x288 with 1 Axes>"
            ]
          },
          "metadata": {
            "needs_background": "light"
          },
          "output_type": "display_data"
        }
      ],
      "source": [
        "#Aparentemente todos os valores estão negativos e em dias\n",
        "\n",
        "df.DAYS_BIRTH.plot(kind='box')"
      ]
    },
    {
      "cell_type": "code",
      "execution_count": null,
      "metadata": {
        "id": "3mtu64Og5Ie2"
      },
      "outputs": [],
      "source": [
        "#Tratando a coluna DAYS_BIRTH\n",
        "\n",
        "df.rename(columns = {'DAYS_BIRTH':'YEARS_BIRTH'}, inplace=True)\n",
        "df['YEARS_BIRTH']= df.YEARS_BIRTH.apply(lambda x: round((x/365)*(-1), 0))"
      ]
    },
    {
      "cell_type": "code",
      "execution_count": null,
      "metadata": {
        "id": "WSXsrdih5Ie3",
        "outputId": "f576933b-67d6-44be-d4bb-a79985d13457",
        "colab": {
          "base_uri": "https://localhost:8080/",
          "height": 298
        }
      },
      "outputs": [
        {
          "output_type": "execute_result",
          "data": {
            "text/plain": [
              "<matplotlib.axes._subplots.AxesSubplot at 0x7f465f2fced0>"
            ]
          },
          "metadata": {},
          "execution_count": 11
        },
        {
          "output_type": "display_data",
          "data": {
            "text/plain": [
              "<Figure size 432x288 with 1 Axes>"
            ],
            "image/png": "[encoded data removed]"
          },
          "metadata": {
            "needs_background": "light"
          }
        }
      ],
      "source": [
        "df.YEARS_BIRTH.plot(kind='hist', title='Distribuição de idade')"
      ]
    },
    {
      "cell_type": "code",
      "execution_count": null,
      "metadata": {
        "id": "j8ad4Li25Ie4",
        "outputId": "f0faa505-96e4-47db-b396-2799c7ad5f03"
      },
      "outputs": [
        {
          "name": "stdout",
          "output_type": "stream",
          "text": [
            "A idade, em anos, do titular mais novo é 21.0 anos\n"
          ]
        }
      ],
      "source": [
        "print(f'A idade, em anos, do titular mais novo é {df.YEARS_BIRTH.min()} anos')"
      ]
    },
    {
      "cell_type": "markdown",
      "metadata": {
        "id": "98dOt_On5Ie5"
      },
      "source": [
        "02) Qual a média do valor de anuidade dos residentes em apartamentos maiores de 50 anos?"
      ]
    },
    {
      "cell_type": "code",
      "execution_count": null,
      "metadata": {
        "id": "wqUMiuPy5Ie6",
        "outputId": "a4cfe35e-7c65-4f8d-e309-f3965ad1655b"
      },
      "outputs": [
        {
          "name": "stdout",
          "output_type": "stream",
          "text": [
            "A média do valor da anuidade dos residentes em apartamentos maiores de 50 anos é $27198.43\n"
          ]
        }
      ],
      "source": [
        "filtro = (df.YEARS_BIRTH>50) & (df.HOUSETYPE_MODE=='block of flats') \n",
        "\n",
        "media = df[filtro]['AMT_ANNUITY'].mean()\n",
        "\n",
        "print(f'A média do valor da anuidade dos residentes em apartamentos maiores de 50 anos é ${media:.2f}')"
      ]
    },
    {
      "cell_type": "markdown",
      "metadata": {
        "id": "OYrmVkC25Ie7"
      },
      "source": [
        "03) Existe uma correlação forte entre ter imóvel próprio e ter carro próprio? Por que?\n"
      ]
    },
    {
      "cell_type": "code",
      "execution_count": null,
      "metadata": {
        "id": "triYN9_85Ie8"
      },
      "outputs": [],
      "source": [
        "#Antes de tudo, precisamos deixar as colunas com valores numéricos para calcular a correlação entre elas\n",
        "\n",
        "df['FLAG_OWN_CAR']= df['FLAG_OWN_CAR'].apply(lambda x: 1 if (x=='Y') else 0)  \n",
        "df['FLAG_OWN_REALTY']= df['FLAG_OWN_REALTY'].apply(lambda x: 1 if (x=='Y') else 0) "
      ]
    },
    {
      "cell_type": "code",
      "execution_count": null,
      "metadata": {
        "id": "3eDDsP0p5Ie9",
        "outputId": "aab094d3-3c4f-4f94-9d89-3bcacf1df162"
      },
      "outputs": [
        {
          "data": {
            "text/html": [
              "<div>\n",
              "<style scoped>\n",
              "    .dataframe tbody tr th:only-of-type {\n",
              "        vertical-align: middle;\n",
              "    }\n",
              "\n",
              "    .dataframe tbody tr th {\n",
              "        vertical-align: top;\n",
              "    }\n",
              "\n",
              "    .dataframe thead th {\n",
              "        text-align: right;\n",
              "    }\n",
              "</style>\n",
              "<table border=\"1\" class=\"dataframe\">\n",
              "  <thead>\n",
              "    <tr style=\"text-align: right;\">\n",
              "      <th></th>\n",
              "      <th>FLAG_OWN_REALTY</th>\n",
              "      <th>FLAG_OWN_CAR</th>\n",
              "    </tr>\n",
              "  </thead>\n",
              "  <tbody>\n",
              "    <tr>\n",
              "      <th>FLAG_OWN_REALTY</th>\n",
              "      <td>1.00000</td>\n",
              "      <td>0.00247</td>\n",
              "    </tr>\n",
              "    <tr>\n",
              "      <th>FLAG_OWN_CAR</th>\n",
              "      <td>0.00247</td>\n",
              "      <td>1.00000</td>\n",
              "    </tr>\n",
              "  </tbody>\n",
              "</table>\n",
              "</div>"
            ],
            "text/plain": [
              "                 FLAG_OWN_REALTY  FLAG_OWN_CAR\n",
              "FLAG_OWN_REALTY          1.00000       0.00247\n",
              "FLAG_OWN_CAR             0.00247       1.00000"
            ]
          },
          "execution_count": 466,
          "metadata": {},
          "output_type": "execute_result"
        }
      ],
      "source": [
        "colunas = ['FLAG_OWN_REALTY', 'FLAG_OWN_CAR']\n",
        "df[colunas].corr()"
      ]
    },
    {
      "cell_type": "markdown",
      "metadata": {
        "id": "aNKPQRf75Ie-"
      },
      "source": [
        "04) Quais os 3 principais tipos de ocupação de quem mora com parentes?\n"
      ]
    },
    {
      "cell_type": "code",
      "execution_count": null,
      "metadata": {
        "id": "nZEIBU8x5Ie-",
        "outputId": "ed212b58-8a3d-47b3-fe59-5ad03744fe30"
      },
      "outputs": [
        {
          "data": {
            "text/plain": [
              "OCCUPATION_TYPE\n",
              "Laborers       1100\n",
              "Sales staff     715\n",
              "Core staff      576\n",
              "Name: OCCUPATION_TYPE, dtype: int64"
            ]
          },
          "execution_count": 467,
          "metadata": {},
          "output_type": "execute_result"
        }
      ],
      "source": [
        "colunas = ['OCCUPATION_TYPE']\n",
        "filtros = (df['NAME_HOUSING_TYPE'] == 'With parents')\n",
        "df[filtros].groupby(colunas)['OCCUPATION_TYPE'].count().sort_values(ascending= False)[0:3]"
      ]
    },
    {
      "cell_type": "markdown",
      "metadata": {
        "id": "DlXvMrDe5Ie_"
      },
      "source": [
        "05) Qual é a diferença entre a média de valor de crédito e a média de valor de anuidade quando filtramos pelos trabalhadores do tipo de organização Military?"
      ]
    },
    {
      "cell_type": "code",
      "execution_count": null,
      "metadata": {
        "id": "onh9RCQF5IfA",
        "outputId": "1c6bf703-d44a-4ce4-9a9e-9e182f560541"
      },
      "outputs": [
        {
          "name": "stdout",
          "output_type": "stream",
          "text": [
            "A diferença entre as médias é $571918.12\n"
          ]
        }
      ],
      "source": [
        "filtros = (df.OCCUPATION_TYPE == 'Military')\n",
        "\n",
        "diferenca_medias = df[['AMT_CREDIT', 'AMT_ANNUITY']].mean()[0] - df[['AMT_CREDIT', 'AMT_ANNUITY']].mean()[1]\n",
        "\n",
        "print(f'A diferença entre as médias é ${diferenca_medias:.2f}')"
      ]
    },
    {
      "cell_type": "code",
      "execution_count": null,
      "metadata": {
        "id": "td5GQMD95IfB",
        "outputId": "746a9e69-d6dc-48b5-f5ef-d815e8256652"
      },
      "outputs": [
        {
          "data": {
            "text/plain": [
              "AMT_CREDIT     599003.446500\n",
              "AMT_ANNUITY     27085.325928\n",
              "dtype: float64"
            ]
          },
          "execution_count": 469,
          "metadata": {},
          "output_type": "execute_result"
        }
      ],
      "source": [
        "df[['AMT_CREDIT', 'AMT_ANNUITY']].mean()"
      ]
    },
    {
      "cell_type": "markdown",
      "metadata": {
        "id": "SXG90ICg5IfC"
      },
      "source": [
        "06) Considerando os tipos de ocupação, podemos dizer que os \"Managers\" possuem um valor de anuidade mais alto? Se não, qual é? "
      ]
    },
    {
      "cell_type": "code",
      "execution_count": null,
      "metadata": {
        "id": "-IKJHjfL5IfD",
        "outputId": "dd1dbb68-71dc-41d5-d878-75c4786276d4"
      },
      "outputs": [
        {
          "data": {
            "text/plain": [
              "OCCUPATION_TYPE\n",
              "Managers                 258025.5\n",
              "Accountants              225000.0\n",
              "High skill tech staff    225000.0\n",
              "Name: AMT_ANNUITY, dtype: float64"
            ]
          },
          "execution_count": 470,
          "metadata": {},
          "output_type": "execute_result"
        }
      ],
      "source": [
        "colunas = ['OCCUPATION_TYPE']\n",
        "df.groupby(colunas)['AMT_ANNUITY'].max().sort_values(ascending= False)[0:3]"
      ]
    },
    {
      "cell_type": "markdown",
      "metadata": {
        "id": "ruqISAlx5IfE"
      },
      "source": [
        "07) Qual é o horário e dia da semana que mais trabalhadores dos tipos de organização Bank & Government optam por requisitar o financiamento?"
      ]
    },
    {
      "cell_type": "code",
      "execution_count": null,
      "metadata": {
        "id": "Kw4uV2l25IfE",
        "outputId": "d9abd9b0-c61d-47e5-d869-b941ea9e1bc0"
      },
      "outputs": [
        {
          "data": {
            "text/plain": [
              "Business Entity        27673\n",
              "XNA                    17865\n",
              "Self-employed          12362\n",
              "Other                   5428\n",
              "Industry                4779\n",
              "Trade                   4556\n",
              "Medicine                3654\n",
              "Government              3394\n",
              "School                  2914\n",
              "Transport               2895\n",
              "Kindergarten            2216\n",
              "Construction            2100\n",
              "Security                1091\n",
              "Housing                  986\n",
              "Military                 872\n",
              "Bank                     866\n",
              "Agriculture              764\n",
              "Postal                   734\n",
              "Police                   720\n",
              "Security Ministries      682\n",
              "Restaurant               584\n",
              "Services                 544\n",
              "University               419\n",
              "Hotel                    319\n",
              "Electricity              303\n",
              "Telecom                  192\n",
              "Insurance                191\n",
              "Emergency                185\n",
              "Advertising              142\n",
              "Culture                  126\n",
              "Realtor                  125\n",
              "Mobile                   111\n",
              "Legal Services            96\n",
              "Cleaning                  84\n",
              "Religion                  28\n",
              "Name: ORGANIZATION_TYPE, dtype: int64"
            ]
          },
          "execution_count": 471,
          "metadata": {},
          "output_type": "execute_result"
        }
      ],
      "source": [
        "## Primeiramente precisamos tratar os tipos de organizações somando todos os types e uma única tipificação\n",
        "df['ORGANIZATION_TYPE'].value_counts().sort_values(ascending =False)"
      ]
    },
    {
      "cell_type": "code",
      "execution_count": null,
      "metadata": {
        "id": "8qu5DpvE5IfF",
        "outputId": "281738e0-0a90-4b7e-83ca-cfb691beaf37"
      },
      "outputs": [
        {
          "data": {
            "text/html": [
              "<div>\n",
              "<style scoped>\n",
              "    .dataframe tbody tr th:only-of-type {\n",
              "        vertical-align: middle;\n",
              "    }\n",
              "\n",
              "    .dataframe tbody tr th {\n",
              "        vertical-align: top;\n",
              "    }\n",
              "\n",
              "    .dataframe thead th {\n",
              "        text-align: right;\n",
              "    }\n",
              "</style>\n",
              "<table border=\"1\" class=\"dataframe\">\n",
              "  <thead>\n",
              "    <tr style=\"text-align: right;\">\n",
              "      <th></th>\n",
              "      <th>WEEKDAY_APPR_PROCESS_START</th>\n",
              "      <th>HOUR_APPR_PROCESS_START</th>\n",
              "    </tr>\n",
              "  </thead>\n",
              "  <tbody>\n",
              "    <tr>\n",
              "      <th>0</th>\n",
              "      <td>TUESDAY</td>\n",
              "      <td>10</td>\n",
              "    </tr>\n",
              "    <tr>\n",
              "      <th>1</th>\n",
              "      <td>NaN</td>\n",
              "      <td>11</td>\n",
              "    </tr>\n",
              "  </tbody>\n",
              "</table>\n",
              "</div>"
            ],
            "text/plain": [
              "  WEEKDAY_APPR_PROCESS_START  HOUR_APPR_PROCESS_START\n",
              "0                    TUESDAY                       10\n",
              "1                        NaN                       11"
            ]
          },
          "execution_count": 472,
          "metadata": {},
          "output_type": "execute_result"
        }
      ],
      "source": [
        "# Calculando a moda para saber o dia que da semana que mais trabalhadores dos tipos \n",
        "# de organização Bank & Government optam por requisitar o financiamento\n",
        "\n",
        "filtros =  (df['ORGANIZATION_TYPE']=='Bank') | (df['ORGANIZATION_TYPE']=='Government')\n",
        "df[filtros][['WEEKDAY_APPR_PROCESS_START', 'HOUR_APPR_PROCESS_START']].mode()"
      ]
    },
    {
      "cell_type": "markdown",
      "metadata": {
        "id": "7zVzmeJg5IfG"
      },
      "source": [
        "08) Qual a média de requisições de empréstimo entre trabalhadores com tipo de ocupação \"Sales staff\", que não moram com parentes, declararam não estarem em situação de emergência e possuem telefone de trabalho?"
      ]
    },
    {
      "cell_type": "code",
      "execution_count": null,
      "metadata": {
        "id": "QsySQxVx5IfH",
        "outputId": "1600f9ae-cd9a-4e94-f1ea-3022800c21b6"
      },
      "outputs": [
        {
          "name": "stdout",
          "output_type": "stream",
          "text": [
            "Média: 1.64\n"
          ]
        }
      ],
      "source": [
        "colunas = ['AMT_REQ_CREDIT_BUREAU_YEAR', 'EMERGENCYSTATE_MODE', 'FLAG_WORK_PHONE', 'CNT_FAM_MEMBERS', 'OCCUPATION_TYPE']\n",
        " \n",
        "filtros = (df.OCCUPATION_TYPE == 'Sales staff') & (df.NAME_HOUSING_TYPE== 'With parents') & (df.EMERGENCYSTATE_MODE == 'No') &  (df.FLAG_WORK_PHONE == 1)\n",
        "media = df[filtros]['AMT_REQ_CREDIT_BUREAU_YEAR'].mean()\n",
        "print(f'Média: {media:.2f}')"
      ]
    },
    {
      "cell_type": "code",
      "execution_count": null,
      "metadata": {
        "id": "ynt1pqwz5IfI",
        "outputId": "00a9f617-e8f5-4504-cdc3-8bd27d6e58a2"
      },
      "outputs": [
        {
          "data": {
            "text/plain": [
              "<AxesSubplot:ylabel='Frequency'>"
            ]
          },
          "execution_count": 474,
          "metadata": {},
          "output_type": "execute_result"
        },
        {
          "data": {
            "image/png": "[encoded data removed]",
            "text/plain": [
              "<Figure size 432x288 with 1 Axes>"
            ]
          },
          "metadata": {
            "needs_background": "light"
          },
          "output_type": "display_data"
        }
      ],
      "source": [
        "df.AMT_REQ_CREDIT_BUREAU_YEAR.plot(kind='hist')"
      ]
    },
    {
      "cell_type": "markdown",
      "metadata": {
        "id": "RgPssKEn5IfI"
      },
      "source": [
        "09) Como você explica a correlação entre o número de filhos e idade (em anos)?"
      ]
    },
    {
      "cell_type": "code",
      "execution_count": null,
      "metadata": {
        "id": "L3NDwyJG5IfJ",
        "outputId": "5f2537d1-5bcc-4bb9-ad92-e4c9523f603c"
      },
      "outputs": [
        {
          "data": {
            "text/html": [
              "<div>\n",
              "<style scoped>\n",
              "    .dataframe tbody tr th:only-of-type {\n",
              "        vertical-align: middle;\n",
              "    }\n",
              "\n",
              "    .dataframe tbody tr th {\n",
              "        vertical-align: top;\n",
              "    }\n",
              "\n",
              "    .dataframe thead th {\n",
              "        text-align: right;\n",
              "    }\n",
              "</style>\n",
              "<table border=\"1\" class=\"dataframe\">\n",
              "  <thead>\n",
              "    <tr style=\"text-align: right;\">\n",
              "      <th></th>\n",
              "      <th>CNT_CHILDREN</th>\n",
              "      <th>YEARS_BIRTH</th>\n",
              "    </tr>\n",
              "  </thead>\n",
              "  <tbody>\n",
              "    <tr>\n",
              "      <th>CNT_CHILDREN</th>\n",
              "      <td>1.00000</td>\n",
              "      <td>-0.32974</td>\n",
              "    </tr>\n",
              "    <tr>\n",
              "      <th>YEARS_BIRTH</th>\n",
              "      <td>-0.32974</td>\n",
              "      <td>1.00000</td>\n",
              "    </tr>\n",
              "  </tbody>\n",
              "</table>\n",
              "</div>"
            ],
            "text/plain": [
              "              CNT_CHILDREN  YEARS_BIRTH\n",
              "CNT_CHILDREN       1.00000     -0.32974\n",
              "YEARS_BIRTH       -0.32974      1.00000"
            ]
          },
          "execution_count": 480,
          "metadata": {},
          "output_type": "execute_result"
        }
      ],
      "source": [
        "df[['CNT_CHILDREN','YEARS_BIRTH']].corr()"
      ]
    },
    {
      "cell_type": "code",
      "source": [
        "df.groupby('CNT_CHILDREN')['YEARS_BIRTH'].describe()"
      ],
      "metadata": {
        "colab": {
          "base_uri": "https://localhost:8080/",
          "height": 457
        },
        "id": "H1HZIIQrxNPg",
        "outputId": "f948623a-8149-44b2-d9b3-9f681c0c7991"
      },
      "execution_count": null,
      "outputs": [
        {
          "output_type": "execute_result",
          "data": {
            "text/plain": [
              "                count       mean        std   min    25%   50%    75%   max\n",
              "CNT_CHILDREN                                                               \n",
              "0             69966.0  46.796630  12.441264  21.0  37.00  48.0  57.00  69.0\n",
              "1             20025.0  37.451436   7.807701  21.0  31.00  37.0  43.00  69.0\n",
              "2              8587.0  36.505532   5.934561  21.0  32.00  36.0  40.00  68.0\n",
              "3              1227.0  37.326813   5.633299  23.0  33.00  37.0  40.00  65.0\n",
              "4               149.0  38.261745   6.274569  23.0  34.00  37.0  41.00  61.0\n",
              "5                31.0  41.612903   8.040221  30.0  35.50  39.0  45.50  60.0\n",
              "6                 9.0  41.111111   3.655285  35.0  41.00  41.0  43.00  46.0\n",
              "7                 2.0  44.500000   4.949747  41.0  42.75  44.5  46.25  48.0\n",
              "8                 1.0  42.000000        NaN  42.0  42.00  42.0  42.00  42.0\n",
              "9                 1.0  30.000000        NaN  30.0  30.00  30.0  30.00  30.0\n",
              "11                1.0  47.000000        NaN  47.0  47.00  47.0  47.00  47.0\n",
              "12                1.0  39.000000        NaN  39.0  39.00  39.0  39.00  39.0"
            ],
            "text/html": [
              "\n",
              "  <div id=\"df-733ad2df-f008-48e4-99d6-47a43e8f951c\">\n",
              "    <div class=\"colab-df-container\">\n",
              "      <div>\n",
              "<style scoped>\n",
              "    .dataframe tbody tr th:only-of-type {\n",
              "        vertical-align: middle;\n",
              "    }\n",
              "\n",
              "    .dataframe tbody tr th {\n",
              "        vertical-align: top;\n",
              "    }\n",
              "\n",
              "    .dataframe thead th {\n",
              "        text-align: right;\n",
              "    }\n",
              "</style>\n",
              "<table border=\"1\" class=\"dataframe\">\n",
              "  <thead>\n",
              "    <tr style=\"text-align: right;\">\n",
              "      <th></th>\n",
              "      <th>count</th>\n",
              "      <th>mean</th>\n",
              "      <th>std</th>\n",
              "      <th>min</th>\n",
              "      <th>25%</th>\n",
              "      <th>50%</th>\n",
              "      <th>75%</th>\n",
              "      <th>max</th>\n",
              "    </tr>\n",
              "    <tr>\n",
              "      <th>CNT_CHILDREN</th>\n",
              "      <th></th>\n",
              "      <th></th>\n",
              "      <th></th>\n",
              "      <th></th>\n",
              "      <th></th>\n",
              "      <th></th>\n",
              "      <th></th>\n",
              "      <th></th>\n",
              "    </tr>\n",
              "  </thead>\n",
              "  <tbody>\n",
              "    <tr>\n",
              "      <th>0</th>\n",
              "      <td>69966.0</td>\n",
              "      <td>46.796630</td>\n",
              "      <td>12.441264</td>\n",
              "      <td>21.0</td>\n",
              "      <td>37.00</td>\n",
              "      <td>48.0</td>\n",
              "      <td>57.00</td>\n",
              "      <td>69.0</td>\n",
              "    </tr>\n",
              "    <tr>\n",
              "      <th>1</th>\n",
              "      <td>20025.0</td>\n",
              "      <td>37.451436</td>\n",
              "      <td>7.807701</td>\n",
              "      <td>21.0</td>\n",
              "      <td>31.00</td>\n",
              "      <td>37.0</td>\n",
              "      <td>43.00</td>\n",
              "      <td>69.0</td>\n",
              "    </tr>\n",
              "    <tr>\n",
              "      <th>2</th>\n",
              "      <td>8587.0</td>\n",
              "      <td>36.505532</td>\n",
              "      <td>5.934561</td>\n",
              "      <td>21.0</td>\n",
              "      <td>32.00</td>\n",
              "      <td>36.0</td>\n",
              "      <td>40.00</td>\n",
              "      <td>68.0</td>\n",
              "    </tr>\n",
              "    <tr>\n",
              "      <th>3</th>\n",
              "      <td>1227.0</td>\n",
              "      <td>37.326813</td>\n",
              "      <td>5.633299</td>\n",
              "      <td>23.0</td>\n",
              "      <td>33.00</td>\n",
              "      <td>37.0</td>\n",
              "      <td>40.00</td>\n",
              "      <td>65.0</td>\n",
              "    </tr>\n",
              "    <tr>\n",
              "      <th>4</th>\n",
              "      <td>149.0</td>\n",
              "      <td>38.261745</td>\n",
              "      <td>6.274569</td>\n",
              "      <td>23.0</td>\n",
              "      <td>34.00</td>\n",
              "      <td>37.0</td>\n",
              "      <td>41.00</td>\n",
              "      <td>61.0</td>\n",
              "    </tr>\n",
              "    <tr>\n",
              "      <th>5</th>\n",
              "      <td>31.0</td>\n",
              "      <td>41.612903</td>\n",
              "      <td>8.040221</td>\n",
              "      <td>30.0</td>\n",
              "      <td>35.50</td>\n",
              "      <td>39.0</td>\n",
              "      <td>45.50</td>\n",
              "      <td>60.0</td>\n",
              "    </tr>\n",
              "    <tr>\n",
              "      <th>6</th>\n",
              "      <td>9.0</td>\n",
              "      <td>41.111111</td>\n",
              "      <td>3.655285</td>\n",
              "      <td>35.0</td>\n",
              "      <td>41.00</td>\n",
              "      <td>41.0</td>\n",
              "      <td>43.00</td>\n",
              "      <td>46.0</td>\n",
              "    </tr>\n",
              "    <tr>\n",
              "      <th>7</th>\n",
              "      <td>2.0</td>\n",
              "      <td>44.500000</td>\n",
              "      <td>4.949747</td>\n",
              "      <td>41.0</td>\n",
              "      <td>42.75</td>\n",
              "      <td>44.5</td>\n",
              "      <td>46.25</td>\n",
              "      <td>48.0</td>\n",
              "    </tr>\n",
              "    <tr>\n",
              "      <th>8</th>\n",
              "      <td>1.0</td>\n",
              "      <td>42.000000</td>\n",
              "      <td>NaN</td>\n",
              "      <td>42.0</td>\n",
              "      <td>42.00</td>\n",
              "      <td>42.0</td>\n",
              "      <td>42.00</td>\n",
              "      <td>42.0</td>\n",
              "    </tr>\n",
              "    <tr>\n",
              "      <th>9</th>\n",
              "      <td>1.0</td>\n",
              "      <td>30.000000</td>\n",
              "      <td>NaN</td>\n",
              "      <td>30.0</td>\n",
              "      <td>30.00</td>\n",
              "      <td>30.0</td>\n",
              "      <td>30.00</td>\n",
              "      <td>30.0</td>\n",
              "    </tr>\n",
              "    <tr>\n",
              "      <th>11</th>\n",
              "      <td>1.0</td>\n",
              "      <td>47.000000</td>\n",
              "      <td>NaN</td>\n",
              "      <td>47.0</td>\n",
              "      <td>47.00</td>\n",
              "      <td>47.0</td>\n",
              "      <td>47.00</td>\n",
              "      <td>47.0</td>\n",
              "    </tr>\n",
              "    <tr>\n",
              "      <th>12</th>\n",
              "      <td>1.0</td>\n",
              "      <td>39.000000</td>\n",
              "      <td>NaN</td>\n",
              "      <td>39.0</td>\n",
              "      <td>39.00</td>\n",
              "      <td>39.0</td>\n",
              "      <td>39.00</td>\n",
              "      <td>39.0</td>\n",
              "    </tr>\n",
              "  </tbody>\n",
              "</table>\n",
              "</div>\n",
              "      <button class=\"colab-df-convert\" onclick=\"convertToInteractive('df-733ad2df-f008-48e4-99d6-47a43e8f951c')\"\n",
              "              title=\"Convert this dataframe to an interactive table.\"\n",
              "              style=\"display:none;\">\n",
              "        \n",
              "  <svg xmlns=\"http://www.w3.org/2000/svg\" height=\"24px\"viewBox=\"0 0 24 24\"\n",
              "       width=\"24px\">\n",
              "    <path d=\"M0 0h24v24H0V0z\" fill=\"none\"/>\n",
              "    <path d=\"M18.56 5.44l.94 2.06.94-2.06 2.06-.94-2.06-.94-.94-2.06-.94 2.06-2.06.94zm-11 1L8.5 8.5l.94-2.06 2.06-.94-2.06-.94L8.5 2.5l-.94 2.06-2.06.94zm10 10l.94 2.06.94-2.06 2.06-.94-2.06-.94-.94-2.06-.94 2.06-2.06.94z\"/><path d=\"M17.41 7.96l-1.37-1.37c-.4-.4-.92-.59-1.43-.59-.52 0-1.04.2-1.43.59L10.3 9.45l-7.72 7.72c-.78.78-.78 2.05 0 2.83L4 21.41c.39.39.9.59 1.41.59.51 0 1.02-.2 1.41-.59l7.78-7.78 2.81-2.81c.8-.78.8-2.07 0-2.86zM5.41 20L4 18.59l7.72-7.72 1.47 1.35L5.41 20z\"/>\n",
              "  </svg>\n",
              "      </button>\n",
              "      \n",
              "  <style>\n",
              "    .colab-df-container {\n",
              "      display:flex;\n",
              "      flex-wrap:wrap;\n",
              "      gap: 12px;\n",
              "    }\n",
              "\n",
              "    .colab-df-convert {\n",
              "      background-color: #E8F0FE;\n",
              "      border: none;\n",
              "      border-radius: 50%;\n",
              "      cursor: pointer;\n",
              "      display: none;\n",
              "      fill: #1967D2;\n",
              "      height: 32px;\n",
              "      padding: 0 0 0 0;\n",
              "      width: 32px;\n",
              "    }\n",
              "\n",
              "    .colab-df-convert:hover {\n",
              "      background-color: #E2EBFA;\n",
              "      box-shadow: 0px 1px 2px rgba(60, 64, 67, 0.3), 0px 1px 3px 1px rgba(60, 64, 67, 0.15);\n",
              "      fill: #174EA6;\n",
              "    }\n",
              "\n",
              "    [theme=dark] .colab-df-convert {\n",
              "      background-color: #3B4455;\n",
              "      fill: #D2E3FC;\n",
              "    }\n",
              "\n",
              "    [theme=dark] .colab-df-convert:hover {\n",
              "      background-color: #434B5C;\n",
              "      box-shadow: 0px 1px 3px 1px rgba(0, 0, 0, 0.15);\n",
              "      filter: drop-shadow(0px 1px 2px rgba(0, 0, 0, 0.3));\n",
              "      fill: #FFFFFF;\n",
              "    }\n",
              "  </style>\n",
              "\n",
              "      <script>\n",
              "        const buttonEl =\n",
              "          document.querySelector('#df-733ad2df-f008-48e4-99d6-47a43e8f951c button.colab-df-convert');\n",
              "        buttonEl.style.display =\n",
              "          google.colab.kernel.accessAllowed ? 'block' : 'none';\n",
              "\n",
              "        async function convertToInteractive(key) {\n",
              "          const element = document.querySelector('#df-733ad2df-f008-48e4-99d6-47a43e8f951c');\n",
              "          const dataTable =\n",
              "            await google.colab.kernel.invokeFunction('convertToInteractive',\n",
              "                                                     [key], {});\n",
              "          if (!dataTable) return;\n",
              "\n",
              "          const docLinkHtml = 'Like what you see? Visit the ' +\n",
              "            '<a target=\"_blank\" href=https://colab.research.google.com/notebooks/data_table.ipynb>data table notebook</a>'\n",
              "            + ' to learn more about interactive tables.';\n",
              "          element.innerHTML = '';\n",
              "          dataTable['output_type'] = 'display_data';\n",
              "          await google.colab.output.renderOutput(dataTable, element);\n",
              "          const docLink = document.createElement('div');\n",
              "          docLink.innerHTML = docLinkHtml;\n",
              "          element.appendChild(docLink);\n",
              "        }\n",
              "      </script>\n",
              "    </div>\n",
              "  </div>\n",
              "  "
            ]
          },
          "metadata": {},
          "execution_count": 12
        }
      ]
    },
    {
      "cell_type": "markdown",
      "metadata": {
        "id": "IGX06xZA5IfK"
      },
      "source": [
        "18) Qual a média de idade (em anos) por tipo de ocupação e escolaridade?"
      ]
    },
    {
      "cell_type": "code",
      "execution_count": null,
      "metadata": {
        "id": "1znQt1YU5IfK",
        "outputId": "704f61d9-c08f-44f6-8a8f-3625a127d9ae"
      },
      "outputs": [
        {
          "data": {
            "text/plain": [
              "OCCUPATION_TYPE       NAME_EDUCATION_TYPE          \n",
              "Accountants           Academic degree                  53.000000\n",
              "                      Higher education                 39.045314\n",
              "                      Incomplete higher                33.266667\n",
              "                      Lower secondary                  38.142857\n",
              "                      Secondary / secondary special    43.196413\n",
              "                                                         ...    \n",
              "Security staff        Secondary / secondary special    45.394450\n",
              "Waiters/barmen staff  Higher education                 31.698413\n",
              "                      Incomplete higher                25.942857\n",
              "                      Lower secondary                  34.333333\n",
              "                      Secondary / secondary special    37.369369\n",
              "Name: YEARS_BIRTH, Length: 80, dtype: float64"
            ]
          },
          "execution_count": 429,
          "metadata": {},
          "output_type": "execute_result"
        }
      ],
      "source": [
        "colunas = ['OCCUPATION_TYPE','NAME_EDUCATION_TYPE']\n",
        "df.groupby(colunas)['YEARS_BIRTH'].mean()"
      ]
    },
    {
      "cell_type": "markdown",
      "source": [
        "20) Quais a média de crédito, média de filhos e média de idade (em anos) de quem declarou estado de emergência?"
      ],
      "metadata": {
        "id": "Jk0Y_Njk5NxS"
      }
    },
    {
      "cell_type": "code",
      "execution_count": null,
      "metadata": {
        "colab": {
          "base_uri": "https://localhost:8080/"
        },
        "id": "Sn0OGZgT5IfL",
        "outputId": "79e8e42b-6958-4338-d380-a32639294f7f"
      },
      "outputs": [
        {
          "output_type": "stream",
          "name": "stdout",
          "text": [
            "Média de Crédito: R$ 578353.82\n",
            "Média de Filhos: 0.49\n",
            "Média de Idade: 43.19\n"
          ]
        }
      ],
      "source": [
        "colunas = ['AMT_CREDIT', 'CNT_CHILDREN', 'YEARS_BIRTH']\n",
        "\n",
        "filtro = (df.EMERGENCYSTATE_MODE == 'Yes')\n",
        "media_credito = df[filtro]['AMT_CREDIT'].mean()\n",
        "media_filhos = df[filtro]['CNT_CHILDREN'].mean()\n",
        "media_idade = df[filtro]['YEARS_BIRTH'].mean()\n",
        "\n",
        "print(f'Média de Crédito: R$ {media_credito:.2f}')\n",
        "print(f'Média de Filhos: {media_filhos:.2f}')\n",
        "print(f'Média de Idade: {media_idade:.2f}')\n"
      ]
    },
    {
      "cell_type": "markdown",
      "source": [
        "21) Quais os tipos de ocupação e tipo de organização dos requisitantes com idade maior que 60 anos?"
      ],
      "metadata": {
        "id": "3Qh9CjLk5S1D"
      }
    },
    {
      "cell_type": "code",
      "source": [
        "colunas = ['OCCUPATION_TYPE', 'ORGANIZATION_TYPE', 'YEARS_BIRTH']\n",
        "\n",
        "filtro = (df.YEARS_BIRTH > 60)\n",
        "tipos_ocupacao = df[filtro]['OCCUPATION_TYPE'].unique()\n",
        "tipos_organizacao = df[filtro]['ORGANIZATION_TYPE'].unique()\n",
        "\n",
        "print(f\"Tipos de ocupação: \\n{tipos_ocupacao[1:]}\")\n",
        "print(f\"\\nTipos de organização: \\n{tipos_organizacao}\")"
      ],
      "metadata": {
        "colab": {
          "base_uri": "https://localhost:8080/"
        },
        "id": "FqX2fLpB5VLA",
        "outputId": "b63f59a7-d65f-4a9f-ee6c-6e4dc8eced15"
      },
      "execution_count": null,
      "outputs": [
        {
          "output_type": "stream",
          "name": "stdout",
          "text": [
            "Tipos de ocupação: \n",
            "['Security staff' 'Cleaning staff' 'Core staff' 'Laborers'\n",
            " 'Medicine staff' 'Managers' 'Sales staff' 'Cooking staff' 'Drivers'\n",
            " 'Accountants' 'High skill tech staff' 'Private service staff'\n",
            " 'Secretaries' 'Waiters/barmen staff' 'IT staff' 'Realty agents'\n",
            " 'Low-skill Laborers' 'HR staff']\n",
            "\n",
            "Tipos de organização: \n",
            "['XNA' 'Medicine' 'Business Entity' 'Government' 'Bank' 'Other'\n",
            " 'Electricity' 'Self-employed' 'Housing' 'Construction' 'Agriculture'\n",
            " 'Cleaning' 'Industry' 'Kindergarten' 'School' 'Security' 'Transport'\n",
            " 'Trade' 'Postal' 'University' 'Restaurant' 'Advertising' 'Legal Services'\n",
            " 'Security Ministries' 'Insurance' 'Hotel' 'Police' 'Emergency' 'Mobile'\n",
            " 'Culture' 'Realtor' 'Military' 'Religion' 'Services' 'Telecom']\n"
          ]
        }
      ]
    }
  ],
  "metadata": {
    "colab": {
      "provenance": []
    },
    "kernelspec": {
      "display_name": "Python 3.9.12 ('base')",
      "language": "python",
      "name": "python3"
    },
    "language_info": {
      "codemirror_mode": {
        "name": "ipython",
        "version": 3
      },
      "file_extension": ".py",
      "mimetype": "text/x-python",
      "name": "python",
      "nbconvert_exporter": "python",
      "pygments_lexer": "ipython3",
      "version": "3.9.12"
    },
    "vscode": {
      "interpreter": {
        "hash": "3a0de9df006df342b5e4296aedaeaf87f8585c794651fec65fd5881a82402807"
      }
    }
  },
  "nbformat": 4,
  "nbformat_minor": 0
}